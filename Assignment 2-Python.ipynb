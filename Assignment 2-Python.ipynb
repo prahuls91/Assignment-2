{
 "cells": [
  {
   "cell_type": "code",
   "execution_count": null,
   "metadata": {},
   "outputs": [],
   "source": [
    "#1.Make a list called things with these three strings as elements: “table” , “chair” and “sofa”. \n",
    "#Capitalize the element in the things list."
   ]
  },
  {
   "cell_type": "code",
   "execution_count": 1,
   "metadata": {},
   "outputs": [],
   "source": [
    "list1=['table','chair','sofa']"
   ]
  },
  {
   "cell_type": "code",
   "execution_count": 2,
   "metadata": {},
   "outputs": [
    {
     "data": {
      "text/plain": [
       "['table', 'chair', 'sofa']"
      ]
     },
     "execution_count": 2,
     "metadata": {},
     "output_type": "execute_result"
    }
   ],
   "source": [
    "list1"
   ]
  },
  {
   "cell_type": "code",
   "execution_count": 9,
   "metadata": {},
   "outputs": [],
   "source": [
    "list1=[element.upper() for element in list1]"
   ]
  },
  {
   "cell_type": "code",
   "execution_count": 10,
   "metadata": {},
   "outputs": [
    {
     "data": {
      "text/plain": [
       "['TABLE', 'CHAIR', 'SOFA']"
      ]
     },
     "execution_count": 10,
     "metadata": {},
     "output_type": "execute_result"
    }
   ],
   "source": [
    "list1"
   ]
  },
  {
   "cell_type": "code",
   "execution_count": null,
   "metadata": {},
   "outputs": [],
   "source": [
    "#2.Create a list called surprise with the element “happy”, “sad”, “emotions”. \n",
    "#Lowercase the last element of the list, reverse it, and then capitalize it."
   ]
  },
  {
   "cell_type": "code",
   "execution_count": 11,
   "metadata": {},
   "outputs": [],
   "source": [
    "surprise=['happy','sad','emotions']"
   ]
  },
  {
   "cell_type": "code",
   "execution_count": 18,
   "metadata": {},
   "outputs": [
    {
     "data": {
      "text/plain": [
       "['emotions', 'sad', 'happy']"
      ]
     },
     "execution_count": 18,
     "metadata": {},
     "output_type": "execute_result"
    }
   ],
   "source": [
    "surprise[::-1]"
   ]
  },
  {
   "cell_type": "code",
   "execution_count": 21,
   "metadata": {},
   "outputs": [
    {
     "data": {
      "text/plain": [
       "['HAPPY', 'SAD', 'EMOTIONS']"
      ]
     },
     "execution_count": 21,
     "metadata": {},
     "output_type": "execute_result"
    }
   ],
   "source": [
    "surprise"
   ]
  },
  {
   "cell_type": "code",
   "execution_count": null,
   "metadata": {},
   "outputs": [],
   "source": [
    "#3.Define a function called name that returns the list [‘Harry’, ’tom’, ’jerry’]."
   ]
  },
  {
   "cell_type": "markdown",
   "metadata": {},
   "source": [
    "### def name():\n",
    "    my_list=['Harry','tom','jerry']\n",
    "    return my_list"
   ]
  },
  {
   "cell_type": "code",
   "execution_count": 6,
   "metadata": {},
   "outputs": [
    {
     "data": {
      "text/plain": [
       "['Harry', 'tom', 'jerry']"
      ]
     },
     "execution_count": 6,
     "metadata": {},
     "output_type": "execute_result"
    }
   ],
   "source": [
    "name()"
   ]
  },
  {
   "cell_type": "code",
   "execution_count": null,
   "metadata": {},
   "outputs": [],
   "source": [
    "#04 Define a generator function called odd_value that returns the odd numbers from range (10).\n",
    "#Use for loop to find and print the third value returned"
   ]
  },
  {
   "cell_type": "code",
   "execution_count": 5,
   "metadata": {},
   "outputs": [
    {
     "name": "stdout",
     "output_type": "stream",
     "text": [
      "Enter the lower limit of the range:1\n",
      "Enter the upper limit of the range:10\n",
      "1\n",
      "3\n",
      "5\n",
      "7\n",
      "9\n"
     ]
    }
   ],
   "source": [
    "lower=int(input(\"Enter the lower limit of the range:\"))\n",
    "upper=int(input(\"Enter the upper limit of the range:\"))\n",
    "for i in range(lower,upper+1):\n",
    "    if(i%2!=0):\n",
    "        print(i)\n"
   ]
  },
  {
   "cell_type": "code",
   "execution_count": null,
   "metadata": {},
   "outputs": [],
   "source": [
    "#Assign the string ‘This is an innovation with python training’ to the variable test1, and write test1 to a file\n",
    "#called test.txt."
   ]
  },
  {
   "cell_type": "code",
   "execution_count": 6,
   "metadata": {},
   "outputs": [],
   "source": [
    "f=open('test.txt','w')\n",
    "f.write('test1')\n",
    "f.close()"
   ]
  },
  {
   "cell_type": "code",
   "execution_count": null,
   "metadata": {},
   "outputs": [],
   "source": [
    "#Open the file test.txt (QUESTION 6) and read its contents into the string test2. Are test1 and test2 the\n",
    "#same?"
   ]
  },
  {
   "cell_type": "code",
   "execution_count": 11,
   "metadata": {},
   "outputs": [
    {
     "name": "stdout",
     "output_type": "stream",
     "text": [
      "test1\n"
     ]
    }
   ],
   "source": [
    "f=open('test.txt','r')\n",
    "test2=f.read()\n",
    "print(test2)"
   ]
  },
  {
   "cell_type": "code",
   "execution_count": null,
   "metadata": {},
   "outputs": [],
   "source": [
    "#Create a file called time.py. In it, define a function called hours ( ) that prints the string ‘Time is precious’.\n",
    "#Then, use interactive interpreter to import the zoo module and call its hours ( ) function."
   ]
  },
  {
   "cell_type": "code",
   "execution_count": null,
   "metadata": {},
   "outputs": [],
   "source": [
    "f=open('time.txt','r')"
   ]
  },
  {
   "cell_type": "code",
   "execution_count": null,
   "metadata": {},
   "outputs": [],
   "source": [
    "#Write a script to concatenate following dictionaries to create a new one.\n",
    "#Sample Dictionary:\n",
    "#dic1= {1:’a’, 2:’b’}\n",
    "#dic2= {3:’c’, 4:’d’}\n",
    "#dic3= {5:’e’, 6:’f’}\n",
    "#Expected Result: {1: ‘a’, 2: ‘b’, 3: ‘c’, 4: ‘d’, 5:’e’ , 6: ‘f’}"
   ]
  },
  {
   "cell_type": "code",
   "execution_count": 17,
   "metadata": {},
   "outputs": [],
   "source": [
    "dic1= {1:'a', 2:'b'}\n",
    "dic2= {3:'c', 4:'d'}\n",
    "dic3= {5:'e', 6:'f'}\n",
    "dic4={}\n",
    "dic4.update(dic1)\n",
    "dic4.update(dic2)\n",
    "dic4.update(dic3)"
   ]
  },
  {
   "cell_type": "code",
   "execution_count": 18,
   "metadata": {},
   "outputs": [
    {
     "data": {
      "text/plain": [
       "{1: 'a', 2: 'b', 3: 'c', 4: 'd', 5: 'e', 6: 'f'}"
      ]
     },
     "execution_count": 18,
     "metadata": {},
     "output_type": "execute_result"
    }
   ],
   "source": [
    "dic4"
   ]
  },
  {
   "cell_type": "code",
   "execution_count": 20,
   "metadata": {},
   "outputs": [],
   "source": [
    "dic1= {1:'a', 2:'b'}\n",
    "dic2= {3:'c', 4:'d'}\n",
    "dic3= {5:'e', 6:'f'}\n",
    "dic4=dict(list(dic1.items()) + list(dic2.items()) + list(dic3.items()))"
   ]
  },
  {
   "cell_type": "code",
   "execution_count": 21,
   "metadata": {},
   "outputs": [
    {
     "data": {
      "text/plain": [
       "{1: 'a', 2: 'b', 3: 'c', 4: 'd', 5: 'e', 6: 'f'}"
      ]
     },
     "execution_count": 21,
     "metadata": {},
     "output_type": "execute_result"
    }
   ],
   "source": [
    "dic4"
   ]
  },
  {
   "cell_type": "code",
   "execution_count": null,
   "metadata": {},
   "outputs": [],
   "source": [
    "#Find out the common character from the two different string using set."
   ]
  },
  {
   "cell_type": "code",
   "execution_count": 22,
   "metadata": {},
   "outputs": [
    {
     "data": {
      "text/plain": [
       "{'b', 'c'}"
      ]
     },
     "execution_count": 22,
     "metadata": {},
     "output_type": "execute_result"
    }
   ],
   "source": [
    "x={'a','b','c','d'}\n",
    "y={'b','c','e'}\n",
    "x.intersection(y)"
   ]
  },
  {
   "cell_type": "code",
   "execution_count": null,
   "metadata": {},
   "outputs": [],
   "source": [
    "#Write a script that read the sentence and gives the output as the length of each word in a sentence in the\n",
    "#for"
   ]
  },
  {
   "cell_type": "code",
   "execution_count": 24,
   "metadata": {},
   "outputs": [
    {
     "data": {
      "text/plain": [
       "[9, 3, 4, 7, 8]"
      ]
     },
     "execution_count": 24,
     "metadata": {},
     "output_type": "execute_result"
    }
   ],
   "source": [
    "s=\"Insurance has good medical benefits\"\n",
    "list(map(len,s.split()))\n"
   ]
  },
  {
   "cell_type": "code",
   "execution_count": null,
   "metadata": {},
   "outputs": [],
   "source": [
    "#Create a file called time.py. In it, define a function called hours ( ) that prints the string ‘Time is precious’.\n",
    "#Then, use interactive interpreter to import the zoo module and call its hours ( ) function."
   ]
  },
  {
   "cell_type": "code",
   "execution_count": 1,
   "metadata": {},
   "outputs": [
    {
     "ename": "ModuleNotFoundError",
     "evalue": "No module named 'zoo'",
     "output_type": "error",
     "traceback": [
      "\u001b[1;31m---------------------------------------------------------------------------\u001b[0m",
      "\u001b[1;31mModuleNotFoundError\u001b[0m                       Traceback (most recent call last)",
      "\u001b[1;32m<ipython-input-1-8f2ee0cf6080>\u001b[0m in \u001b[0;36m<module>\u001b[1;34m()\u001b[0m\n\u001b[1;32m----> 1\u001b[1;33m \u001b[1;32mimport\u001b[0m \u001b[0mzoo\u001b[0m\u001b[1;33m\u001b[0m\u001b[0m\n\u001b[0m\u001b[0;32m      2\u001b[0m \u001b[1;33m\u001b[0m\u001b[0m\n\u001b[0;32m      3\u001b[0m \u001b[1;32mdef\u001b[0m \u001b[0mhours\u001b[0m\u001b[1;33m(\u001b[0m\u001b[1;33m)\u001b[0m\u001b[1;33m:\u001b[0m\u001b[1;33m\u001b[0m\u001b[0m\n\u001b[0;32m      4\u001b[0m     \u001b[1;32mreturn\u001b[0m\u001b[1;33m(\u001b[0m\u001b[1;34m'Time is precious'\u001b[0m\u001b[1;33m)\u001b[0m\u001b[1;33m\u001b[0m\u001b[0m\n\u001b[0;32m      5\u001b[0m \u001b[0mprint\u001b[0m\u001b[1;33m(\u001b[0m\u001b[0mzoo\u001b[0m\u001b[1;33m.\u001b[0m\u001b[0mgetlogin\u001b[0m\u001b[1;33m(\u001b[0m\u001b[1;33m)\u001b[0m\u001b[1;33m)\u001b[0m\u001b[1;33m\u001b[0m\u001b[0m\n",
      "\u001b[1;31mModuleNotFoundError\u001b[0m: No module named 'zoo'"
     ]
    }
   ],
   "source": [
    "import zoo\n",
    "\n",
    "def hours():\n",
    "    return('Time is precious')\n",
    "print(zoo.getlogin())\n",
    "print(hours())"
   ]
  },
  {
   "cell_type": "code",
   "execution_count": null,
   "metadata": {},
   "outputs": [],
   "source": [
    "#Write a program which takes numbers as input from users and print count, maximum, minimum, sum\n",
    "#and average of numbers. Use list to store these numbers. If user enters anything other than a number (except when\n",
    "#user enters quit, quit the program and display the results) then catch the exception using try/except and warn the user\n",
    "#and then continue the program until the user enters quit."
   ]
  },
  {
   "cell_type": "code",
   "execution_count": null,
   "metadata": {},
   "outputs": [],
   "source": [
    "#Create a file with contents:\n",
    "#Man lives on Land\n",
    "#Fish lives in Water\n",
    "#Crow lives on trees\n",
    "#Monkey lives on trees\n",
    "#Dolphin lives in Water\n",
    "#Cow lives on Land\n",
    "#Read this file line by line and \n",
    "#create a dictionary with the words in this file and their respective count values and print it"
   ]
  },
  {
   "cell_type": "code",
   "execution_count": 7,
   "metadata": {
    "scrolled": true
   },
   "outputs": [],
   "source": [
    "file=open('dict.txt','r')\n",
    "d={}\n",
    "for line in file:\n",
    "    x=line.split(',')\n",
    "    a=x[0]\n",
    "    b=x[1]\n",
    "    d[a]=b"
   ]
  },
  {
   "cell_type": "code",
   "execution_count": 10,
   "metadata": {},
   "outputs": [
    {
     "data": {
      "text/plain": [
       "{'1': 'Man lives on Land\\\\n\\n',\n",
       " '2': 'Fish lives in Water\\\\n\\n',\n",
       " '3': 'Crow lives on trees\\\\n\\n',\n",
       " '4': 'Monkey lives on trees\\\\n\\n',\n",
       " '5': 'Dolphin lives in Water\\\\n\\n',\n",
       " '6': 'Cow lives on Land\\\\n'}"
      ]
     },
     "execution_count": 10,
     "metadata": {},
     "output_type": "execute_result"
    }
   ],
   "source": [
    "d"
   ]
  },
  {
   "cell_type": "code",
   "execution_count": null,
   "metadata": {},
   "outputs": [],
   "source": [
    "#Write a program which takes numbers as input from users \n",
    "#and print count, maximum, minimum, sum\n",
    "#and average of numbers. Use list to store these numbers. \n",
    "#If user enters anything other than a number (except when\n",
    "#user enters quit, quit the program and display the results)\n",
    "#then catch the exception using try/except and warn the user\n",
    "#and then continue the program until the user enters quit."
   ]
  },
  {
   "cell_type": "code",
   "execution_count": 10,
   "metadata": {},
   "outputs": [
    {
     "name": "stdout",
     "output_type": "stream",
     "text": [
      "\n",
      "Please Enter the Range Number: 10\n",
      "0\n",
      "1\n",
      "1\n",
      "2\n",
      "3\n",
      "5\n",
      "8\n",
      "13\n",
      "21\n",
      "34\n"
     ]
    }
   ],
   "source": [
    "#Fibonacci \n",
    "\n",
    "N = int(input(\"\\nPlease Enter the Range Number: \"))\n",
    " \n",
    "# Initializing First and Second Values of a Series\n",
    "count = 0\n",
    "n1 = 0\n",
    "n2 = 1\n",
    "           \n",
    "# Find & Displaying Fibonacci series\n",
    "while(count< N):\n",
    "           if(count <= 1):\n",
    "                      Next = count\n",
    "           else:\n",
    "                      Next = n1 + n2\n",
    "                      n1 = n2\n",
    "                      n2 = Next\n",
    "           print(Next)\n",
    "           count = count + 1"
   ]
  },
  {
   "cell_type": "code",
   "execution_count": null,
   "metadata": {},
   "outputs": [],
   "source": [
    "#Write a program which takes numbers as input from users and print count,\n",
    "#maximum, minimum, sum and average of numbers. Use list to store these numbers. \n",
    "#If user enters anything other than a number (except when\n",
    "#user enters quit, quit the program and display the results) \n",
    "#then catch the exception using try/except and warn the user\n",
    "#and then continue the program until the user enters quit."
   ]
  },
  {
   "cell_type": "code",
   "execution_count": 14,
   "metadata": {},
   "outputs": [
    {
     "name": "stdout",
     "output_type": "stream",
     "text": [
      "Before:  <built-in function max>\n",
      "> 10\n",
      "input is valid, thanks!\n",
      "Loop_largest: 10.0 10.0\n",
      "Loop_minimum: 10.0 <built-in function min>\n",
      "> 2\n",
      "input is valid, thanks!\n",
      "Loop_largest: 2.0 2.0\n",
      "Loop_minimum: 2.0 <built-in function min>\n",
      "> hi\n",
      "only numbers are allowed.\n",
      "> quit\n",
      "<IPython.core.autocall.ZMQExitAutocall object at 0x00000142305FF390>\n",
      "Total:  12.0\n",
      "Count:  2\n",
      "Average:  6.0\n",
      "Largest:  None\n",
      "Smallest  2.0\n"
     ]
    }
   ],
   "source": [
    "total = 0\n",
    "count = 0\n",
    "average = 0\n",
    "error_msg = \"only numbers are allowed.\"\n",
    "maximum = None\n",
    "minimum = None\n",
    "\n",
    "print ('Before: ', max)\n",
    "\n",
    "while True:\n",
    "\n",
    "  line = input('> ')\n",
    "\n",
    "  if line == 'quit':\n",
    "\n",
    "    break\n",
    "\n",
    "  try:\n",
    "\n",
    "    if float(line):\n",
    "\n",
    "      print ('input is valid, thanks!')\n",
    "\n",
    "      total += float(line)\n",
    "\n",
    "      count += 1\n",
    "\n",
    "      itervar = float(line)\n",
    "\n",
    "      if maximum is None or itervar > max :\n",
    "\n",
    "        largest = itervar\n",
    "\n",
    "      print ('Loop_largest:', itervar, largest)\n",
    "\n",
    "      if minimum is None or itervar < minimum:\n",
    "\n",
    "        minimum = itervar\n",
    "\n",
    "      print ('Loop_minimum:', itervar, min)\n",
    "\n",
    "  except:\n",
    "\n",
    "      print (error_msg)\n",
    "\n",
    "if count!=0:\n",
    "\n",
    "  average = total / count\n",
    "\n",
    "  print (quit)\n",
    "\n",
    "  print ('Total: ', total)\n",
    "\n",
    "  print ('Count: ', count)\n",
    "\n",
    "  print ('Average: ', average)\n",
    "\n",
    "  print ('Largest: ', maximum)\n",
    "    "
   ]
  },
  {
   "cell_type": "code",
   "execution_count": null,
   "metadata": {},
   "outputs": [],
   "source": []
  }
 ],
 "metadata": {
  "kernelspec": {
   "display_name": "Python 3",
   "language": "python",
   "name": "python3"
  },
  "language_info": {
   "codemirror_mode": {
    "name": "ipython",
    "version": 3
   },
   "file_extension": ".py",
   "mimetype": "text/x-python",
   "name": "python",
   "nbconvert_exporter": "python",
   "pygments_lexer": "ipython3",
   "version": "3.6.4"
  }
 },
 "nbformat": 4,
 "nbformat_minor": 2
}
